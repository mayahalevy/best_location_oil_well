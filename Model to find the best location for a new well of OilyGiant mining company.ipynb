{
 "cells": [
  {
   "cell_type": "markdown",
   "id": "576514bf",
   "metadata": {},
   "source": [
    "# Model to find the best location for a new well of OilyGiant mining company"
   ]
  },
  {
   "cell_type": "markdown",
   "id": "c52c732c",
   "metadata": {},
   "source": [
    "Based of data on oil samples from three regions, I will pick the top 200 wells with the largest predicted volume of reserves. I will build a linear model that will help to pick the region with the highest profit margin and risk lower then 2.5%. Analyzing the data using the Bootstrapping technique."
   ]
  },
  {
   "cell_type": "markdown",
   "id": "e6e825de",
   "metadata": {},
   "source": [
    "## Downloading and Preparing Data"
   ]
  },
  {
   "cell_type": "code",
   "execution_count": 1,
   "id": "41f5909d",
   "metadata": {},
   "outputs": [],
   "source": [
    "import numpy as np\n",
    "import pandas as pd\n",
    "\n",
    "from sklearn.model_selection import train_test_split\n",
    "from sklearn.preprocessing import StandardScaler\n",
    "\n",
    "from sklearn.linear_model import LinearRegression\n",
    "from sklearn.metrics import mean_squared_error\n",
    "from sklearn.model_selection import cross_val_score\n",
    "\n",
    "import matplotlib.pyplot as plt\n",
    "import seaborn as sns\n",
    "pd.options.mode.chained_assignment = None"
   ]
  },
  {
   "cell_type": "code",
   "execution_count": 2,
   "id": "3fe520aa",
   "metadata": {},
   "outputs": [
    {
     "data": {
      "text/html": [
       "<div>\n",
       "<style scoped>\n",
       "    .dataframe tbody tr th:only-of-type {\n",
       "        vertical-align: middle;\n",
       "    }\n",
       "\n",
       "    .dataframe tbody tr th {\n",
       "        vertical-align: top;\n",
       "    }\n",
       "\n",
       "    .dataframe thead th {\n",
       "        text-align: right;\n",
       "    }\n",
       "</style>\n",
       "<table border=\"1\" class=\"dataframe\">\n",
       "  <thead>\n",
       "    <tr style=\"text-align: right;\">\n",
       "      <th></th>\n",
       "      <th>id</th>\n",
       "      <th>f0</th>\n",
       "      <th>f1</th>\n",
       "      <th>f2</th>\n",
       "      <th>product</th>\n",
       "    </tr>\n",
       "  </thead>\n",
       "  <tbody>\n",
       "    <tr>\n",
       "      <th>47104</th>\n",
       "      <td>qRnls</td>\n",
       "      <td>0.198187</td>\n",
       "      <td>-0.196172</td>\n",
       "      <td>2.469499</td>\n",
       "      <td>50.127507</td>\n",
       "    </tr>\n",
       "  </tbody>\n",
       "</table>\n",
       "</div>"
      ],
      "text/plain": [
       "          id        f0        f1        f2    product\n",
       "47104  qRnls  0.198187 -0.196172  2.469499  50.127507"
      ]
     },
     "metadata": {},
     "output_type": "display_data"
    },
    {
     "data": {
      "text/plain": [
       "(100000, 5)"
      ]
     },
     "metadata": {},
     "output_type": "display_data"
    },
    {
     "data": {
      "text/html": [
       "<div>\n",
       "<style scoped>\n",
       "    .dataframe tbody tr th:only-of-type {\n",
       "        vertical-align: middle;\n",
       "    }\n",
       "\n",
       "    .dataframe tbody tr th {\n",
       "        vertical-align: top;\n",
       "    }\n",
       "\n",
       "    .dataframe thead th {\n",
       "        text-align: right;\n",
       "    }\n",
       "</style>\n",
       "<table border=\"1\" class=\"dataframe\">\n",
       "  <thead>\n",
       "    <tr style=\"text-align: right;\">\n",
       "      <th></th>\n",
       "      <th>id</th>\n",
       "      <th>f0</th>\n",
       "      <th>f1</th>\n",
       "      <th>f2</th>\n",
       "      <th>product</th>\n",
       "    </tr>\n",
       "  </thead>\n",
       "  <tbody>\n",
       "    <tr>\n",
       "      <th>88242</th>\n",
       "      <td>NDO9q</td>\n",
       "      <td>-9.627893</td>\n",
       "      <td>-14.305292</td>\n",
       "      <td>5.005301</td>\n",
       "      <td>137.945408</td>\n",
       "    </tr>\n",
       "  </tbody>\n",
       "</table>\n",
       "</div>"
      ],
      "text/plain": [
       "          id        f0         f1        f2     product\n",
       "88242  NDO9q -9.627893 -14.305292  5.005301  137.945408"
      ]
     },
     "metadata": {},
     "output_type": "display_data"
    },
    {
     "data": {
      "text/plain": [
       "(100000, 5)"
      ]
     },
     "metadata": {},
     "output_type": "display_data"
    },
    {
     "data": {
      "text/html": [
       "<div>\n",
       "<style scoped>\n",
       "    .dataframe tbody tr th:only-of-type {\n",
       "        vertical-align: middle;\n",
       "    }\n",
       "\n",
       "    .dataframe tbody tr th {\n",
       "        vertical-align: top;\n",
       "    }\n",
       "\n",
       "    .dataframe thead th {\n",
       "        text-align: right;\n",
       "    }\n",
       "</style>\n",
       "<table border=\"1\" class=\"dataframe\">\n",
       "  <thead>\n",
       "    <tr style=\"text-align: right;\">\n",
       "      <th></th>\n",
       "      <th>id</th>\n",
       "      <th>f0</th>\n",
       "      <th>f1</th>\n",
       "      <th>f2</th>\n",
       "      <th>product</th>\n",
       "    </tr>\n",
       "  </thead>\n",
       "  <tbody>\n",
       "    <tr>\n",
       "      <th>5603</th>\n",
       "      <td>UZEPj</td>\n",
       "      <td>-1.300679</td>\n",
       "      <td>-0.13935</td>\n",
       "      <td>6.901773</td>\n",
       "      <td>137.150007</td>\n",
       "    </tr>\n",
       "  </tbody>\n",
       "</table>\n",
       "</div>"
      ],
      "text/plain": [
       "         id        f0       f1        f2     product\n",
       "5603  UZEPj -1.300679 -0.13935  6.901773  137.150007"
      ]
     },
     "metadata": {},
     "output_type": "display_data"
    },
    {
     "data": {
      "text/plain": [
       "(100000, 5)"
      ]
     },
     "metadata": {},
     "output_type": "display_data"
    }
   ],
   "source": [
    "try:\n",
    "    geo_data_0 = pd.read_csv('geo_data_0.csv')\n",
    "    geo_data_1 = pd.read_csv('geo_data_1.csv')\n",
    "    geo_data_2 = pd.read_csv('geo_data_2.csv')\n",
    "except:\n",
    "    geo_data_0 = pd.read_csv('/datasets/geo_data_0.csv')\n",
    "    geo_data_1 = pd.read_csv('/datasets/geo_data_1.csv')\n",
    "    geo_data_2 = pd.read_csv('/datasets/geo_data_2.csv')\n",
    "    \n",
    "display(geo_data_0.sample(),geo_data_0.shape,\\\n",
    "        geo_data_1.sample(),geo_data_1.shape,\\\n",
    "        geo_data_2.sample(), geo_data_2.shape)"
   ]
  },
  {
   "cell_type": "code",
   "execution_count": 3,
   "id": "7c7ff688",
   "metadata": {},
   "outputs": [
    {
     "name": "stdout",
     "output_type": "stream",
     "text": [
      "0\n",
      "\n",
      "0\n",
      "\n",
      "0\n"
     ]
    }
   ],
   "source": [
    "print(geo_data_0.isnull().sum().sum())\n",
    "print()\n",
    "print(geo_data_1.isnull().sum().sum())\n",
    "print()\n",
    "print(geo_data_2.isnull().sum().sum())"
   ]
  },
  {
   "cell_type": "code",
   "execution_count": 4,
   "id": "7342e827",
   "metadata": {},
   "outputs": [
    {
     "name": "stdout",
     "output_type": "stream",
     "text": [
      "0\n",
      "\n",
      "0\n",
      "\n",
      "0\n"
     ]
    }
   ],
   "source": [
    "print(geo_data_0.duplicated().sum())\n",
    "print()\n",
    "print(geo_data_1.duplicated().sum())\n",
    "print()\n",
    "print(geo_data_2.duplicated().sum())"
   ]
  },
  {
   "cell_type": "markdown",
   "id": "652bccc5",
   "metadata": {},
   "source": [
    "There are no missing values or duplicated rows. I will combine the data sets to one data frame in order to be able to calculate metrics per region easier."
   ]
  },
  {
   "cell_type": "code",
   "execution_count": 5,
   "id": "07cf4308",
   "metadata": {
    "scrolled": true
   },
   "outputs": [
    {
     "data": {
      "text/html": [
       "<div>\n",
       "<style scoped>\n",
       "    .dataframe tbody tr th:only-of-type {\n",
       "        vertical-align: middle;\n",
       "    }\n",
       "\n",
       "    .dataframe tbody tr th {\n",
       "        vertical-align: top;\n",
       "    }\n",
       "\n",
       "    .dataframe thead th {\n",
       "        text-align: right;\n",
       "    }\n",
       "</style>\n",
       "<table border=\"1\" class=\"dataframe\">\n",
       "  <thead>\n",
       "    <tr style=\"text-align: right;\">\n",
       "      <th></th>\n",
       "      <th>level_0</th>\n",
       "      <th>level_1</th>\n",
       "      <th>id</th>\n",
       "      <th>f0</th>\n",
       "      <th>f1</th>\n",
       "      <th>f2</th>\n",
       "      <th>product</th>\n",
       "    </tr>\n",
       "  </thead>\n",
       "  <tbody>\n",
       "    <tr>\n",
       "      <th>count</th>\n",
       "      <td>300000</td>\n",
       "      <td>300000.000000</td>\n",
       "      <td>300000</td>\n",
       "      <td>300000.000000</td>\n",
       "      <td>300000.000000</td>\n",
       "      <td>300000.000000</td>\n",
       "      <td>300000.000000</td>\n",
       "    </tr>\n",
       "    <tr>\n",
       "      <th>unique</th>\n",
       "      <td>3</td>\n",
       "      <td>NaN</td>\n",
       "      <td>299951</td>\n",
       "      <td>NaN</td>\n",
       "      <td>NaN</td>\n",
       "      <td>NaN</td>\n",
       "      <td>NaN</td>\n",
       "    </tr>\n",
       "    <tr>\n",
       "      <th>top</th>\n",
       "      <td>g0</td>\n",
       "      <td>NaN</td>\n",
       "      <td>uSye4</td>\n",
       "      <td>NaN</td>\n",
       "      <td>NaN</td>\n",
       "      <td>NaN</td>\n",
       "      <td>NaN</td>\n",
       "    </tr>\n",
       "    <tr>\n",
       "      <th>freq</th>\n",
       "      <td>100000</td>\n",
       "      <td>NaN</td>\n",
       "      <td>2</td>\n",
       "      <td>NaN</td>\n",
       "      <td>NaN</td>\n",
       "      <td>NaN</td>\n",
       "      <td>NaN</td>\n",
       "    </tr>\n",
       "    <tr>\n",
       "      <th>mean</th>\n",
       "      <td>NaN</td>\n",
       "      <td>49999.500000</td>\n",
       "      <td>NaN</td>\n",
       "      <td>0.547913</td>\n",
       "      <td>-1.516172</td>\n",
       "      <td>2.497439</td>\n",
       "      <td>85.441667</td>\n",
       "    </tr>\n",
       "    <tr>\n",
       "      <th>std</th>\n",
       "      <td>NaN</td>\n",
       "      <td>28867.561571</td>\n",
       "      <td>NaN</td>\n",
       "      <td>5.316634</td>\n",
       "      <td>3.900220</td>\n",
       "      <td>2.916502</td>\n",
       "      <td>46.519494</td>\n",
       "    </tr>\n",
       "    <tr>\n",
       "      <th>min</th>\n",
       "      <td>NaN</td>\n",
       "      <td>0.000000</td>\n",
       "      <td>NaN</td>\n",
       "      <td>-31.609576</td>\n",
       "      <td>-26.358598</td>\n",
       "      <td>-12.088328</td>\n",
       "      <td>0.000000</td>\n",
       "    </tr>\n",
       "    <tr>\n",
       "      <th>25%</th>\n",
       "      <td>NaN</td>\n",
       "      <td>24999.750000</td>\n",
       "      <td>NaN</td>\n",
       "      <td>-1.003037</td>\n",
       "      <td>-2.478939</td>\n",
       "      <td>0.648213</td>\n",
       "      <td>52.666629</td>\n",
       "    </tr>\n",
       "    <tr>\n",
       "      <th>50%</th>\n",
       "      <td>NaN</td>\n",
       "      <td>49999.500000</td>\n",
       "      <td>NaN</td>\n",
       "      <td>0.347934</td>\n",
       "      <td>-0.229632</td>\n",
       "      <td>2.491215</td>\n",
       "      <td>84.038886</td>\n",
       "    </tr>\n",
       "    <tr>\n",
       "      <th>75%</th>\n",
       "      <td>NaN</td>\n",
       "      <td>74999.250000</td>\n",
       "      <td>NaN</td>\n",
       "      <td>1.755365</td>\n",
       "      <td>0.678562</td>\n",
       "      <td>4.344943</td>\n",
       "      <td>124.174086</td>\n",
       "    </tr>\n",
       "    <tr>\n",
       "      <th>max</th>\n",
       "      <td>NaN</td>\n",
       "      <td>99999.000000</td>\n",
       "      <td>NaN</td>\n",
       "      <td>29.421755</td>\n",
       "      <td>18.734063</td>\n",
       "      <td>16.739402</td>\n",
       "      <td>190.029838</td>\n",
       "    </tr>\n",
       "  </tbody>\n",
       "</table>\n",
       "</div>"
      ],
      "text/plain": [
       "       level_0        level_1      id             f0             f1  \\\n",
       "count   300000  300000.000000  300000  300000.000000  300000.000000   \n",
       "unique       3            NaN  299951            NaN            NaN   \n",
       "top         g0            NaN   uSye4            NaN            NaN   \n",
       "freq    100000            NaN       2            NaN            NaN   \n",
       "mean       NaN   49999.500000     NaN       0.547913      -1.516172   \n",
       "std        NaN   28867.561571     NaN       5.316634       3.900220   \n",
       "min        NaN       0.000000     NaN     -31.609576     -26.358598   \n",
       "25%        NaN   24999.750000     NaN      -1.003037      -2.478939   \n",
       "50%        NaN   49999.500000     NaN       0.347934      -0.229632   \n",
       "75%        NaN   74999.250000     NaN       1.755365       0.678562   \n",
       "max        NaN   99999.000000     NaN      29.421755      18.734063   \n",
       "\n",
       "                   f2        product  \n",
       "count   300000.000000  300000.000000  \n",
       "unique            NaN            NaN  \n",
       "top               NaN            NaN  \n",
       "freq              NaN            NaN  \n",
       "mean         2.497439      85.441667  \n",
       "std          2.916502      46.519494  \n",
       "min        -12.088328       0.000000  \n",
       "25%          0.648213      52.666629  \n",
       "50%          2.491215      84.038886  \n",
       "75%          4.344943     124.174086  \n",
       "max         16.739402     190.029838  "
      ]
     },
     "execution_count": 5,
     "metadata": {},
     "output_type": "execute_result"
    }
   ],
   "source": [
    "geo_data = pd.concat([geo_data_0, geo_data_1, geo_data_2], keys=['g0', 'g1', 'g2']).reset_index()\n",
    "geo_data.describe(include='all')"
   ]
  },
  {
   "cell_type": "markdown",
   "id": "0a33063f",
   "metadata": {},
   "source": [
    "The model I am working with is linear regression, the categories have to be encoded in a way that assigns equal importance to all of them, yet still lets them be recognized as distinct and different. \n",
    "\n",
    "The features in this data are numerical (besides `id` but I will drop this feature because it is a unique object used to track the data entry and does not have an impact on our target). For this reason I will prepare the data with feature scaling only."
   ]
  },
  {
   "cell_type": "markdown",
   "id": "b4c3ec06",
   "metadata": {},
   "source": [
    "### Feature Scaling and Model inisialization, training, and testing"
   ]
  },
  {
   "cell_type": "code",
   "execution_count": 6,
   "id": "0889dc97",
   "metadata": {
    "scrolled": true
   },
   "outputs": [
    {
     "name": "stdout",
     "output_type": "stream",
     "text": [
      "Features shape:\n",
      "geo_data_0: train: (75000, 4) validation: (25000, 4)\n",
      "geo_data_1: train: (75000, 4) validation: (25000, 4)\n",
      "geo_data_2: train: (75000, 4) validation: (25000, 4)\n",
      "\n",
      "Target shape:\n",
      "geo_data_0: train: (75000,) validation: (25000,)\n",
      "geo_data_1: train: (75000,) validation: (25000,)\n",
      "geo_data_2: train: (75000,) validation: (25000,)\n"
     ]
    }
   ],
   "source": [
    "count = 0\n",
    "for region in ['g0', 'g1', 'g2']:\n",
    "    df = geo_data.query('level_0 == @region').drop(['id', 'level_0', 'level_1'], axis=1).reset_index()\n",
    "    \n",
    "    features = df.drop('product', axis=1)\n",
    "    target = df['product']\n",
    "    \n",
    "    features_train, features_valid,  target_train, target_valid = train_test_split(\n",
    "    features, target, test_size=0.25 , random_state=12345)\n",
    "    \n",
    "    numeric = ['f0','f1','f2']\n",
    "    scaler = StandardScaler()\n",
    "    scaler.fit(features_train[numeric])\n",
    "    features_train[numeric] = scaler.transform(features_train[numeric])\n",
    "    features_valid[numeric] = scaler.transform(features_valid[numeric])\n",
    "    \n",
    "    if count == 0:\n",
    "        features_train_0 = features_train\n",
    "        target_train_0 = target_train\n",
    "        features_valid_0 = features_valid\n",
    "        target_valid_0 = target_valid\n",
    "    elif count == 1:\n",
    "        features_train_1 = features_train\n",
    "        target_train_1 = target_train\n",
    "        features_valid_1 = features_valid\n",
    "        target_valid_1 = target_valid\n",
    "    elif count == 2:\n",
    "        features_train_2 = features_train\n",
    "        target_train_2 = target_train\n",
    "        features_valid_2 = features_valid\n",
    "        target_valid_2 = target_valid\n",
    "    \n",
    "    count += 1  \n",
    "\n",
    "print('Features shape:')\n",
    "print('geo_data_0:', 'train:', features_train_0.shape, 'validation:',features_valid_0.shape)\n",
    "print('geo_data_1:','train:', features_train_1.shape, 'validation:',features_valid_1.shape)\n",
    "print('geo_data_2:','train:', features_train_2.shape, 'validation:',features_valid_2.shape)\n",
    "print()\n",
    "print('Target shape:')\n",
    "print('geo_data_0:','train:',target_train_0.shape, 'validation:',target_valid_0.shape)\n",
    "print('geo_data_1:','train:',target_train_1.shape, 'validation:',target_valid_1.shape)\n",
    "print('geo_data_2:','train:',target_train_2.shape, 'validation:',target_valid_2.shape)    "
   ]
  },
  {
   "cell_type": "code",
   "execution_count": 7,
   "id": "a10ea777",
   "metadata": {
    "scrolled": false
   },
   "outputs": [
    {
     "name": "stdout",
     "output_type": "stream",
     "text": [
      "\n",
      "geo_data_0\n",
      "AVG_0 = 92.5924422447677\n",
      "RMSE_0 = 37.57949193854287\n",
      "\n",
      "geo_data_1\n",
      "AVG_1 = 68.72849982676499\n",
      "RMSE_1 = 0.8930659052624615\n",
      "\n",
      "geo_data_2\n",
      "AVG_2 = 94.96522806981984\n",
      "RMSE_2 = 40.03003812272811\n"
     ]
    }
   ],
   "source": [
    "print()\n",
    "model_0 = LinearRegression()\n",
    "model_0.fit(features_train_0, target_train_0)\n",
    "predicted_valid_0 = model_0.predict(features_valid_0)\n",
    "mse_0 = mean_squared_error(target_valid_0, predicted_valid_0)\n",
    "print('geo_data_0')\n",
    "print('AVG_0 =', predicted_valid_0.mean())\n",
    "print('RMSE_0 =', mse_0 ** 0.5)\n",
    "print()\n",
    "model_1 = LinearRegression()\n",
    "model_1.fit(features_train_1, target_train_1)\n",
    "predicted_valid_1 = model_1.predict(features_valid_1)\n",
    "mse_1 = mean_squared_error(target_valid_1, predicted_valid_1)\n",
    "print('geo_data_1')\n",
    "print('AVG_1 =', predicted_valid_1.mean())\n",
    "print('RMSE_1 =', mse_1 ** 0.5)\n",
    "print()\n",
    "model_2 = LinearRegression()\n",
    "model_2.fit(features_train_2, target_train_2)\n",
    "predicted_valid_2 = model_2.predict(features_valid_2)\n",
    "mse_2 = mean_squared_error(target_valid_2, predicted_valid_2)\n",
    "print('geo_data_2')\n",
    "print('AVG_2 =', predicted_valid_2.mean())\n",
    "print('RMSE_2 =', mse_2 ** 0.5)"
   ]
  },
  {
   "cell_type": "markdown",
   "id": "57eddf01",
   "metadata": {},
   "source": [
    "The models have been trained and tested per region. \n",
    "Region 2 has the largest volume of predicted oil reserves, followed by region 0, then far behind is region 1 with the least average reserves.\n",
    "Region 1 though has the lowest RMSE score (the model is best fitted to this regions data), following far behind are regions 0 and 2 with the highest RMSE scores (the models are not fitted to the data as well).\n",
    "This pattern is confirmed with the cross-validation scores- region 1 has the highest score (close to 1) and then region 0 and region 2, this is indicative of their models prediction accuracy recpectivly.\n",
    "\n",
    "These results of high volume predictions and high rate of error can be investigated further by examening the features distribution and correlations."
   ]
  },
  {
   "cell_type": "markdown",
   "id": "8957fd61",
   "metadata": {},
   "source": [
    "## Profit Calculation"
   ]
  },
  {
   "cell_type": "code",
   "execution_count": 8,
   "id": "9806c4f9",
   "metadata": {},
   "outputs": [],
   "source": [
    "num_wells = 200\n",
    "budget = 100*(10**6)\n",
    "budget_per_well = budget / num_wells\n",
    "\n",
    "revenue_per_barrel = 4.5\n",
    "revenue_per_unit = 4500\n",
    "\n",
    "min_risk = 0.025"
   ]
  },
  {
   "cell_type": "code",
   "execution_count": 9,
   "id": "c7bc48bb",
   "metadata": {
    "scrolled": true
   },
   "outputs": [
    {
     "name": "stdout",
     "output_type": "stream",
     "text": [
      "in order to develop a new well without losses, the reserves must have 111.11 thousand barrels\n",
      "\n",
      "the average volume of predicted reserves in each region (thousand barrels):\n",
      "\n",
      "g0 region: 92.59\n",
      "g1 region: 68.73\n",
      "g2 region: 94.97\n"
     ]
    }
   ],
   "source": [
    "min_reserve_vol = budget_per_well/revenue_per_unit\n",
    "print('in order to develop a new well without losses, the reserves must have', round(min_reserve_vol,2), 'thousand barrels')\n",
    "print()\n",
    "print('the average volume of predicted reserves in each region (thousand barrels):')\n",
    "print()\n",
    "for region in ['g0', 'g1', 'g2']:\n",
    "    if region == 'g0':\n",
    "        pred = predicted_valid_0\n",
    "    elif region == 'g1':\n",
    "        pred = predicted_valid_1   \n",
    "    elif region == 'g2':\n",
    "        pred = predicted_valid_2  \n",
    "    print(region, 'region:', round(pred.mean(),2))"
   ]
  },
  {
   "cell_type": "markdown",
   "id": "87c71b91",
   "metadata": {},
   "source": [
    "All of the regions have predicted volume of oil on average smaller then the break even minimum amount."
   ]
  },
  {
   "cell_type": "code",
   "execution_count": 15,
   "id": "2b7644c1",
   "metadata": {},
   "outputs": [],
   "source": [
    "#function to calculate profit from a set of selected oil wells and model predictions per region\n",
    "\n",
    "def profit(region, target, predictions):\n",
    "    pred_sorted = predictions.reset_index().sort_values(by=0,ascending=False)\n",
    "    selected = target.reset_index().loc[pred_sorted[:200].index]\n",
    "    \n",
    "    return sum(revenue_per_unit*selected['product'])-budget"
   ]
  },
  {
   "cell_type": "code",
   "execution_count": 16,
   "id": "7ecc7338",
   "metadata": {
    "scrolled": true
   },
   "outputs": [
    {
     "name": "stdout",
     "output_type": "stream",
     "text": [
      "g0 profit:\n",
      "33208260.43 USD\n",
      "\n",
      "g1 profit:\n",
      "24150866.97 USD\n",
      "\n",
      "g2 profit:\n",
      "26887004.6 USD\n",
      "\n"
     ]
    }
   ],
   "source": [
    "for region in ['g0', 'g1', 'g2']:\n",
    "    if region == 'g0':\n",
    "        target = target_valid_0.reset_index()\n",
    "        predictions = predicted_valid_0\n",
    "    elif region == 'g1':\n",
    "        target = target_valid_1.reset_index()\n",
    "        predictions = predicted_valid_1   \n",
    "    elif region == 'g2':\n",
    "        target = target_valid_2.reset_index()\n",
    "        predictions = predicted_valid_2  \n",
    "    predictions = pd.Series(predictions)\n",
    "    print(region, 'profit:')\n",
    "    print(round(profit(region, target, predictions),2), 'USD')\n",
    "    print()"
   ]
  },
  {
   "cell_type": "markdown",
   "id": "d84789a7",
   "metadata": {},
   "source": [
    "Region 0 has the highest overall profit for the best predicted wells, then region 2 and region 1, while region 2 is closer to region 1 then it is to region 0."
   ]
  },
  {
   "cell_type": "code",
   "execution_count": 17,
   "id": "60eee708",
   "metadata": {
    "scrolled": true
   },
   "outputs": [],
   "source": [
    "# bootstrapping with 1000 samples to find the distribution of profit per region\n",
    "\n",
    "state = np.random.RandomState(39)  \n",
    "revenue = []\n",
    "\n",
    "for region in ['g0', 'g1', 'g2']:  \n",
    "    if region == 'g0':\n",
    "        target = target_valid_0.reset_index()\n",
    "        predictions = predicted_valid_0\n",
    "    elif region == 'g1':\n",
    "        target = target_valid_1.reset_index()\n",
    "        predictions = predicted_valid_1   \n",
    "    elif region == 'g2':\n",
    "        target = target_valid_2.reset_index()\n",
    "        predictions = predicted_valid_2  \n",
    "    predictions = pd.Series(predictions)\n",
    "    revenue_= []\n",
    "    for i in range(1000):\n",
    "        target_subsample = target.sample(n=500, replace=True, random_state=state)\n",
    "        pred_subsample = predictions.iloc[target_subsample.index]\n",
    "        revenue_.append(profit(region, target_subsample, pred_subsample))\n",
    "        \n",
    "    revenue.append(revenue_)\n",
    "revenue_0 = pd.Series(revenue[0])\n",
    "revenue_1 = pd.Series(revenue[1])\n",
    "revenue_2 = pd.Series(revenue[2])"
   ]
  },
  {
   "cell_type": "code",
   "execution_count": 18,
   "id": "1cfb4c66",
   "metadata": {},
   "outputs": [
    {
     "data": {
      "image/png": "[encoded data removed]",
      "text/plain": [
       "<Figure size 432x288 with 3 Axes>"
      ]
     },
     "metadata": {},
     "output_type": "display_data"
    }
   ],
   "source": [
    "sns.set(palette='viridis') \n",
    "fig, axes = plt.subplots(1, 3)\n",
    "sns.histplot(revenue_0, label='g0', ax=axes[0])\n",
    "sns.histplot(revenue_1, label='g1', ax=axes[1])\n",
    "sns.histplot(revenue_2, label='g2', ax=axes[2])\n",
    "plt.legend()\n",
    "plt.show()"
   ]
  },
  {
   "cell_type": "code",
   "execution_count": 19,
   "id": "4fdee8d4",
   "metadata": {},
   "outputs": [
    {
     "data": {
      "text/plain": [
       "<AxesSubplot:ylabel='Count'>"
      ]
     },
     "execution_count": 19,
     "metadata": {},
     "output_type": "execute_result"
    },
    {
     "data": {
      "image/png": "[encoded data removed]",
      "text/plain": [
       "<Figure size 864x720 with 1 Axes>"
      ]
     },
     "metadata": {},
     "output_type": "display_data"
    }
   ],
   "source": [
    "plt.figure(figsize=(12,10))\n",
    "sns.histplot({'go':revenue_0, 'g1':revenue_1, 'g2': revenue_2})"
   ]
  },
  {
   "cell_type": "markdown",
   "id": "c6a13a0f",
   "metadata": {},
   "source": [
    "All the regions profit are distributed mostly between 0 and 10 million.\n",
    "Region 0 has the most left skewed distribution of profit- This distribution has the most negative values.\n",
    "Region 1 has the most rightly skewed distribution- This distributiom has the least negative values. region 1 also has a high peak around the mean value.\n",
    "Region 2 has distribution closests to normal distribution- This distribution has a medium amount of negative values.\n",
    "\n",
    "Based on the profit distribution I would pick region 2 or region 1 for development because thier profit distribution shows more profitable wells. Previouce results have shown that region 2 has more oil in its reserves then region 1. For this reason, based off of amount of profit, I would pick region 2 for development."
   ]
  },
  {
   "cell_type": "code",
   "execution_count": 20,
   "id": "670d70eb",
   "metadata": {},
   "outputs": [
    {
     "name": "stdout",
     "output_type": "stream",
     "text": [
      "g2 profit per well:\n",
      "134435.02 USD\n"
     ]
    }
   ],
   "source": [
    "print(region, 'profit per well:')\n",
    "print(round(profit(region, target_valid_2.reset_index(), pd.Series(predicted_valid_2))/200, 2), 'USD')"
   ]
  },
  {
   "cell_type": "markdown",
   "id": "bdb34fb0",
   "metadata": {},
   "source": [
    "### risks and profit per region"
   ]
  },
  {
   "cell_type": "code",
   "execution_count": 21,
   "id": "a28a02fb",
   "metadata": {
    "scrolled": false
   },
   "outputs": [
    {
     "name": "stdout",
     "output_type": "stream",
     "text": [
      "g0\n",
      "Average profit: 3836924.25 USD\n",
      "95% confidence interval: [ -1611571.97 , 8983418.17 ] USD\n",
      "risk of losses: 7.6 %\n",
      "\n",
      "♡♡♡\n",
      "\n",
      "g1\n",
      "Average profit: 4617191.61 USD\n",
      "95% confidence interval: [ 837840.8 , 8508230.93 ] USD\n",
      "risk of losses: 0.8 %\n",
      "\n",
      "♡♡♡\n",
      "\n",
      "g2\n",
      "Average profit: 3808253.63 USD\n",
      "95% confidence interval: [ -1744232.65 , 9135570.86 ] USD\n",
      "risk of losses: 8.3 %\n",
      "\n",
      "♡♡♡\n",
      "\n"
     ]
    }
   ],
   "source": [
    "for region in ['g0', 'g1', 'g2']:\n",
    "    if region == 'g0':\n",
    "        prof = revenue_0\n",
    "    elif region == 'g1':\n",
    "        prof = revenue_1\n",
    "    elif region == 'g2':\n",
    "        prof = revenue_2\n",
    "    print(region)\n",
    "    lower = prof.quantile(0.025)\n",
    "    higher = prof.quantile(0.975)\n",
    "    mean = prof.mean()\n",
    "    print('Average profit:', round(mean,2), 'USD')\n",
    "    print('95% confidence interval:', '[', round(lower,2),',' ,round(higher,2), '] USD')\n",
    "    loss = sum(prof<0)\n",
    "    prob = loss/len(prof)\n",
    "    print('risk of losses:', (prob*100), '%')\n",
    "    print()\n",
    "    print('♡♡♡')\n",
    "    print()"
   ]
  },
  {
   "cell_type": "markdown",
   "id": "3cea77c4",
   "metadata": {},
   "source": [
    "The best region for development is region 1 because it has the highest average profit and lowest risk of losses, region 1 has 0.3% risk of loss, this is the only region with risk below 2.5% not including. \n",
    "This outcome is aligned with the previouce results, region 1 shown the least amount of negative values when examening the distribution of profit."
   ]
  },
  {
   "cell_type": "markdown",
   "id": "1431204e",
   "metadata": {},
   "source": [
    "# Conclusion"
   ]
  },
  {
   "cell_type": "markdown",
   "id": "33b0e838",
   "metadata": {},
   "source": [
    "Region 0 has the most oil in its reserves but the risk of losses is on the maximum threshold.\n",
    "\n",
    "Region 1 has the least oil in its reserves but the lowest risk and thus highest profit, the model is very accurate for its data so this should be the development region.\n",
    "\n",
    "Region 2 has substancial oil in its reserve but the risk of losses is the highest and the model is the least accurate for its data.\n",
    "\n",
    "\n",
    "It could be beneficial to analyze the distribution of oil reserves per region and the features dispersionand corrolation, in order to improve the models quality for regions 2 and 0. This could lead to lower risk of losses in these regions and make development more secure and profitable."
   ]
  }
 ],
 "metadata": {
  "ExecuteTimeLog": [
   {
    "duration": 902,
    "start_time": "2022-06-12T13:57:50.392Z"
   },
   {
    "duration": 85,
    "start_time": "2022-06-12T13:58:16.342Z"
   },
   {
    "duration": 3,
    "start_time": "2022-06-12T14:00:06.915Z"
   },
   {
    "duration": 26,
    "start_time": "2022-06-12T14:00:09.080Z"
   },
   {
    "duration": 1524,
    "start_time": "2022-06-12T14:02:06.580Z"
   },
   {
    "duration": 17,
    "start_time": "2022-06-12T14:02:13.461Z"
   },
   {
    "duration": 22,
    "start_time": "2022-06-12T14:02:27.490Z"
   },
   {
    "duration": 26,
    "start_time": "2022-06-12T14:02:42.386Z"
   },
   {
    "duration": 18,
    "start_time": "2022-06-12T14:02:55.211Z"
   },
   {
    "duration": 38,
    "start_time": "2022-06-12T14:03:00.492Z"
   },
   {
    "duration": 47,
    "start_time": "2022-06-12T14:03:55.316Z"
   },
   {
    "duration": 31,
    "start_time": "2022-06-12T14:04:01.501Z"
   },
   {
    "duration": 29,
    "start_time": "2022-06-12T14:04:53.825Z"
   },
   {
    "duration": 73,
    "start_time": "2022-06-12T14:05:25.420Z"
   },
   {
    "duration": 33,
    "start_time": "2022-06-12T14:06:18.679Z"
   },
   {
    "duration": 72,
    "start_time": "2022-06-12T14:09:14.990Z"
   },
   {
    "duration": 67,
    "start_time": "2022-06-12T14:13:44.046Z"
   },
   {
    "duration": 70,
    "start_time": "2022-06-12T14:15:02.176Z"
   },
   {
    "duration": 64,
    "start_time": "2022-06-12T14:15:44.916Z"
   },
   {
    "duration": 66,
    "start_time": "2022-06-12T14:16:05.575Z"
   },
   {
    "duration": 68,
    "start_time": "2022-06-12T14:16:31.905Z"
   },
   {
    "duration": 69,
    "start_time": "2022-06-12T14:17:16.656Z"
   },
   {
    "duration": 58,
    "start_time": "2022-06-12T14:18:41.210Z"
   },
   {
    "duration": 60,
    "start_time": "2022-06-12T14:19:43.120Z"
   },
   {
    "duration": 60,
    "start_time": "2022-06-12T14:20:04.300Z"
   },
   {
    "duration": 29,
    "start_time": "2022-06-12T14:23:17.801Z"
   },
   {
    "duration": 29,
    "start_time": "2022-06-12T16:05:09.173Z"
   },
   {
    "duration": 9,
    "start_time": "2022-06-12T16:08:17.145Z"
   },
   {
    "duration": 51,
    "start_time": "2022-06-12T16:08:24.889Z"
   },
   {
    "duration": 4,
    "start_time": "2022-06-12T16:09:05.149Z"
   },
   {
    "duration": 5,
    "start_time": "2022-06-12T16:12:10.785Z"
   },
   {
    "duration": 16,
    "start_time": "2022-06-12T16:12:20.225Z"
   },
   {
    "duration": 64,
    "start_time": "2022-06-12T16:20:39.450Z"
   },
   {
    "duration": 65,
    "start_time": "2022-06-12T16:21:04.806Z"
   },
   {
    "duration": 109,
    "start_time": "2022-06-12T16:22:48.876Z"
   },
   {
    "duration": 4,
    "start_time": "2022-06-12T16:36:15.357Z"
   },
   {
    "duration": 72,
    "start_time": "2022-06-12T16:40:30.862Z"
   },
   {
    "duration": 70,
    "start_time": "2022-06-12T16:41:15.912Z"
   },
   {
    "duration": 17,
    "start_time": "2022-06-12T16:42:27.648Z"
   },
   {
    "duration": 67,
    "start_time": "2022-06-12T16:42:41.212Z"
   },
   {
    "duration": 15,
    "start_time": "2022-06-12T16:43:25.457Z"
   },
   {
    "duration": 16,
    "start_time": "2022-06-12T16:43:27.783Z"
   },
   {
    "duration": 401,
    "start_time": "2022-06-12T16:45:22.577Z"
   },
   {
    "duration": 152,
    "start_time": "2022-06-12T16:46:48.632Z"
   },
   {
    "duration": 93,
    "start_time": "2022-06-12T16:46:59.293Z"
   },
   {
    "duration": 96,
    "start_time": "2022-06-12T16:47:08.097Z"
   },
   {
    "duration": 79,
    "start_time": "2022-06-12T16:49:58.008Z"
   },
   {
    "duration": 60,
    "start_time": "2022-06-12T16:50:38.878Z"
   },
   {
    "duration": 49,
    "start_time": "2022-06-13T05:23:26.191Z"
   },
   {
    "duration": 1051,
    "start_time": "2022-06-13T05:23:44.472Z"
   },
   {
    "duration": 843,
    "start_time": "2022-06-13T05:23:48.635Z"
   },
   {
    "duration": 26,
    "start_time": "2022-06-13T05:24:00.966Z"
   },
   {
    "duration": 2,
    "start_time": "2022-06-13T05:25:36.750Z"
   },
   {
    "duration": 4,
    "start_time": "2022-06-13T05:25:40.001Z"
   },
   {
    "duration": 3,
    "start_time": "2022-06-13T05:25:54.810Z"
   },
   {
    "duration": 5,
    "start_time": "2022-06-13T05:25:57.441Z"
   },
   {
    "duration": 6,
    "start_time": "2022-06-13T05:26:30.265Z"
   },
   {
    "duration": 4,
    "start_time": "2022-06-13T05:26:41.590Z"
   },
   {
    "duration": 3,
    "start_time": "2022-06-13T05:26:57.585Z"
   },
   {
    "duration": 4,
    "start_time": "2022-06-13T05:26:59.890Z"
   },
   {
    "duration": 2,
    "start_time": "2022-06-13T05:28:19.600Z"
   },
   {
    "duration": 3,
    "start_time": "2022-06-13T05:28:21.421Z"
   },
   {
    "duration": 60,
    "start_time": "2022-06-13T05:37:35.549Z"
   },
   {
    "duration": 3,
    "start_time": "2022-06-13T05:37:47.020Z"
   },
   {
    "duration": 4,
    "start_time": "2022-06-13T05:37:50.105Z"
   },
   {
    "duration": 4,
    "start_time": "2022-06-13T05:38:09.620Z"
   },
   {
    "duration": 8,
    "start_time": "2022-06-13T05:39:48.486Z"
   },
   {
    "duration": 4,
    "start_time": "2022-06-13T05:40:07.741Z"
   },
   {
    "duration": 10,
    "start_time": "2022-06-13T05:42:45.955Z"
   },
   {
    "duration": 11,
    "start_time": "2022-06-13T05:43:20.055Z"
   },
   {
    "duration": 4,
    "start_time": "2022-06-13T05:44:29.575Z"
   },
   {
    "duration": 7,
    "start_time": "2022-06-13T05:45:18.300Z"
   },
   {
    "duration": 8,
    "start_time": "2022-06-13T05:45:42.351Z"
   },
   {
    "duration": 8,
    "start_time": "2022-06-13T05:46:31.730Z"
   },
   {
    "duration": 7,
    "start_time": "2022-06-13T05:46:43.535Z"
   },
   {
    "duration": 11,
    "start_time": "2022-06-13T05:57:51.400Z"
   },
   {
    "duration": 7,
    "start_time": "2022-06-13T06:05:31.650Z"
   },
   {
    "duration": 7,
    "start_time": "2022-06-13T06:05:46.121Z"
   },
   {
    "duration": 4,
    "start_time": "2022-06-13T06:09:26.070Z"
   },
   {
    "duration": 10,
    "start_time": "2022-06-13T06:09:43.151Z"
   },
   {
    "duration": 5,
    "start_time": "2022-06-13T06:10:08.941Z"
   },
   {
    "duration": 15,
    "start_time": "2022-06-13T06:10:14.060Z"
   },
   {
    "duration": 4,
    "start_time": "2022-06-13T06:10:24.146Z"
   },
   {
    "duration": 17,
    "start_time": "2022-06-13T06:10:30.796Z"
   },
   {
    "duration": 3,
    "start_time": "2022-06-13T06:11:40.756Z"
   },
   {
    "duration": 12,
    "start_time": "2022-06-13T06:12:07.946Z"
   },
   {
    "duration": 4,
    "start_time": "2022-06-13T06:12:29.641Z"
   },
   {
    "duration": 22,
    "start_time": "2022-06-13T06:12:30.267Z"
   },
   {
    "duration": 4,
    "start_time": "2022-06-13T06:12:54.637Z"
   },
   {
    "duration": 53,
    "start_time": "2022-06-13T06:12:56.438Z"
   },
   {
    "duration": 9,
    "start_time": "2022-06-13T06:13:34.782Z"
   },
   {
    "duration": 11,
    "start_time": "2022-06-13T06:14:11.970Z"
   },
   {
    "duration": 8,
    "start_time": "2022-06-13T06:14:14.407Z"
   },
   {
    "duration": 5,
    "start_time": "2022-06-13T06:14:33.182Z"
   },
   {
    "duration": 3,
    "start_time": "2022-06-13T06:14:44.757Z"
   },
   {
    "duration": 3,
    "start_time": "2022-06-13T06:14:55.887Z"
   },
   {
    "duration": 8,
    "start_time": "2022-06-13T06:25:28.603Z"
   },
   {
    "duration": 10,
    "start_time": "2022-06-13T06:25:47.529Z"
   },
   {
    "duration": 103,
    "start_time": "2022-06-13T06:26:10.449Z"
   },
   {
    "duration": 233,
    "start_time": "2022-06-13T06:26:14.749Z"
   },
   {
    "duration": 125,
    "start_time": "2022-06-13T06:26:27.639Z"
   },
   {
    "duration": 5,
    "start_time": "2022-06-13T06:26:33.309Z"
   },
   {
    "duration": 11,
    "start_time": "2022-06-13T06:26:46.769Z"
   },
   {
    "duration": 4,
    "start_time": "2022-06-13T06:27:20.715Z"
   },
   {
    "duration": 5,
    "start_time": "2022-06-13T06:27:26.140Z"
   },
   {
    "duration": 11,
    "start_time": "2022-06-13T06:27:38.946Z"
   },
   {
    "duration": 2,
    "start_time": "2022-06-13T06:27:44.805Z"
   },
   {
    "duration": 4,
    "start_time": "2022-06-13T06:28:05.070Z"
   },
   {
    "duration": 15,
    "start_time": "2022-06-13T06:28:20.215Z"
   },
   {
    "duration": 9,
    "start_time": "2022-06-13T06:28:21.929Z"
   },
   {
    "duration": 4,
    "start_time": "2022-06-13T06:28:32.440Z"
   },
   {
    "duration": 5,
    "start_time": "2022-06-13T06:30:09.846Z"
   },
   {
    "duration": 17,
    "start_time": "2022-06-13T06:32:06.973Z"
   },
   {
    "duration": 167,
    "start_time": "2022-06-13T06:32:13.120Z"
   },
   {
    "duration": 13,
    "start_time": "2022-06-13T06:32:28.156Z"
   },
   {
    "duration": 70,
    "start_time": "2022-06-13T06:32:34.195Z"
   },
   {
    "duration": 24,
    "start_time": "2022-06-13T06:32:42.370Z"
   },
   {
    "duration": 25,
    "start_time": "2022-06-13T06:33:04.141Z"
   },
   {
    "duration": 44,
    "start_time": "2022-06-13T06:33:07.900Z"
   },
   {
    "duration": 87,
    "start_time": "2022-06-13T06:35:04.287Z"
   },
   {
    "duration": 20,
    "start_time": "2022-06-13T06:35:17.286Z"
   },
   {
    "duration": 17,
    "start_time": "2022-06-13T06:35:46.990Z"
   },
   {
    "duration": 15,
    "start_time": "2022-06-13T06:35:52.900Z"
   },
   {
    "duration": 1043,
    "start_time": "2022-06-13T13:10:09.281Z"
   },
   {
    "duration": 820,
    "start_time": "2022-06-13T13:10:10.326Z"
   },
   {
    "duration": 108,
    "start_time": "2022-06-13T13:10:11.148Z"
   },
   {
    "duration": 31,
    "start_time": "2022-06-13T13:10:37.861Z"
   },
   {
    "duration": 19,
    "start_time": "2022-06-13T13:11:47.505Z"
   },
   {
    "duration": 20,
    "start_time": "2022-06-13T13:11:57.211Z"
   },
   {
    "duration": 23,
    "start_time": "2022-06-13T13:12:12.680Z"
   },
   {
    "duration": 19,
    "start_time": "2022-06-13T13:12:21.671Z"
   },
   {
    "duration": 26,
    "start_time": "2022-06-13T13:12:59.191Z"
   },
   {
    "duration": 23,
    "start_time": "2022-06-13T13:13:08.768Z"
   },
   {
    "duration": 28,
    "start_time": "2022-06-13T13:14:18.377Z"
   },
   {
    "duration": 61,
    "start_time": "2022-06-13T13:14:23.141Z"
   },
   {
    "duration": 55,
    "start_time": "2022-06-13T13:14:57.236Z"
   },
   {
    "duration": 290,
    "start_time": "2022-06-13T13:17:33.124Z"
   },
   {
    "duration": 231,
    "start_time": "2022-06-13T13:18:33.780Z"
   },
   {
    "duration": 8,
    "start_time": "2022-06-13T13:18:36.639Z"
   },
   {
    "duration": 7,
    "start_time": "2022-06-13T13:19:44.009Z"
   },
   {
    "duration": 253,
    "start_time": "2022-06-13T13:20:02.304Z"
   },
   {
    "duration": 34,
    "start_time": "2022-06-13T13:20:40.779Z"
   },
   {
    "duration": 105,
    "start_time": "2022-06-13T13:21:23.748Z"
   },
   {
    "duration": 220,
    "start_time": "2022-06-13T13:21:27.954Z"
   },
   {
    "duration": 9,
    "start_time": "2022-06-13T13:23:40.889Z"
   },
   {
    "duration": 3,
    "start_time": "2022-06-13T13:23:43.984Z"
   },
   {
    "duration": 38,
    "start_time": "2022-06-13T13:23:45.713Z"
   },
   {
    "duration": 39,
    "start_time": "2022-06-13T13:24:33.554Z"
   },
   {
    "duration": 37,
    "start_time": "2022-06-13T13:24:52.909Z"
   },
   {
    "duration": 122,
    "start_time": "2022-06-13T13:25:45.558Z"
   },
   {
    "duration": 388,
    "start_time": "2022-06-13T13:25:55.478Z"
   },
   {
    "duration": 4,
    "start_time": "2022-06-13T13:39:29.687Z"
   },
   {
    "duration": 72,
    "start_time": "2022-06-13T13:39:40.701Z"
   },
   {
    "duration": 4,
    "start_time": "2022-06-13T13:40:11.747Z"
   },
   {
    "duration": 205,
    "start_time": "2022-06-13T13:40:13.561Z"
   },
   {
    "duration": 5,
    "start_time": "2022-06-13T13:40:55.187Z"
   },
   {
    "duration": 5,
    "start_time": "2022-06-13T13:41:32.812Z"
   },
   {
    "duration": 8,
    "start_time": "2022-06-13T13:41:47.041Z"
   },
   {
    "duration": 9,
    "start_time": "2022-06-13T13:42:03.327Z"
   },
   {
    "duration": 9,
    "start_time": "2022-06-13T13:42:15.272Z"
   },
   {
    "duration": 8,
    "start_time": "2022-06-13T13:43:31.601Z"
   },
   {
    "duration": 5,
    "start_time": "2022-06-13T13:44:29.442Z"
   },
   {
    "duration": 13,
    "start_time": "2022-06-13T13:44:42.081Z"
   },
   {
    "duration": 10,
    "start_time": "2022-06-13T13:45:02.376Z"
   },
   {
    "duration": 10,
    "start_time": "2022-06-13T13:45:04.786Z"
   },
   {
    "duration": 4,
    "start_time": "2022-06-13T13:45:35.311Z"
   },
   {
    "duration": 11,
    "start_time": "2022-06-13T13:45:37.226Z"
   },
   {
    "duration": 9,
    "start_time": "2022-06-13T13:45:39.695Z"
   },
   {
    "duration": 11,
    "start_time": "2022-06-13T13:45:41.826Z"
   },
   {
    "duration": 11,
    "start_time": "2022-06-13T13:47:48.261Z"
   },
   {
    "duration": 50,
    "start_time": "2022-06-14T09:00:43.038Z"
   },
   {
    "duration": 1067,
    "start_time": "2022-06-14T09:01:14.851Z"
   },
   {
    "duration": 884,
    "start_time": "2022-06-14T09:01:15.920Z"
   },
   {
    "duration": 27,
    "start_time": "2022-06-14T09:01:16.806Z"
   },
   {
    "duration": 142,
    "start_time": "2022-06-14T09:01:16.840Z"
   },
   {
    "duration": 482,
    "start_time": "2022-06-14T09:01:16.984Z"
   },
   {
    "duration": 138,
    "start_time": "2022-06-14T09:01:21.032Z"
   },
   {
    "duration": 178,
    "start_time": "2022-06-14T09:01:22.056Z"
   },
   {
    "duration": 4,
    "start_time": "2022-06-14T09:01:22.236Z"
   },
   {
    "duration": 54,
    "start_time": "2022-06-14T09:01:22.553Z"
   },
   {
    "duration": 5,
    "start_time": "2022-06-14T09:01:22.609Z"
   },
   {
    "duration": 117,
    "start_time": "2022-06-14T09:01:22.616Z"
   },
   {
    "duration": 118,
    "start_time": "2022-06-14T09:01:22.740Z"
   },
   {
    "duration": 20,
    "start_time": "2022-06-14T09:01:30.511Z"
   },
   {
    "duration": 6,
    "start_time": "2022-06-14T09:01:31.091Z"
   },
   {
    "duration": 111,
    "start_time": "2022-06-14T09:01:53.932Z"
   },
   {
    "duration": 25,
    "start_time": "2022-06-14T09:02:29.131Z"
   },
   {
    "duration": 176,
    "start_time": "2022-06-14T09:02:39.106Z"
   },
   {
    "duration": 158,
    "start_time": "2022-06-14T09:02:52.178Z"
   },
   {
    "duration": 3,
    "start_time": "2022-06-14T09:20:02.497Z"
   },
   {
    "duration": 478,
    "start_time": "2022-06-14T09:20:04.572Z"
   },
   {
    "duration": 13,
    "start_time": "2022-06-14T09:21:05.941Z"
   },
   {
    "duration": 470,
    "start_time": "2022-06-14T09:21:09.176Z"
   },
   {
    "duration": 4,
    "start_time": "2022-06-14T09:23:17.641Z"
   },
   {
    "duration": 68,
    "start_time": "2022-06-14T09:23:21.016Z"
   },
   {
    "duration": 271,
    "start_time": "2022-06-14T09:25:28.370Z"
   },
   {
    "duration": 99,
    "start_time": "2022-06-14T09:25:37.055Z"
   },
   {
    "duration": 61,
    "start_time": "2022-06-14T09:25:48.216Z"
   },
   {
    "duration": 5,
    "start_time": "2022-06-14T09:25:51.321Z"
   },
   {
    "duration": 181,
    "start_time": "2022-06-14T09:25:53.446Z"
   },
   {
    "duration": 4,
    "start_time": "2022-06-14T09:26:41.291Z"
   },
   {
    "duration": 174,
    "start_time": "2022-06-14T09:27:04.351Z"
   },
   {
    "duration": 6,
    "start_time": "2022-06-14T09:27:07.505Z"
   },
   {
    "duration": 14,
    "start_time": "2022-06-14T09:27:27.953Z"
   },
   {
    "duration": 38,
    "start_time": "2022-06-14T09:27:48.285Z"
   },
   {
    "duration": 6,
    "start_time": "2022-06-14T09:27:53.685Z"
   },
   {
    "duration": 6,
    "start_time": "2022-06-14T09:27:56.175Z"
   },
   {
    "duration": 18,
    "start_time": "2022-06-14T09:28:20.641Z"
   },
   {
    "duration": 17,
    "start_time": "2022-06-14T09:28:34.925Z"
   },
   {
    "duration": 24,
    "start_time": "2022-06-14T09:28:53.146Z"
   },
   {
    "duration": 3,
    "start_time": "2022-06-14T09:29:26.341Z"
   },
   {
    "duration": 36,
    "start_time": "2022-06-14T09:29:28.416Z"
   },
   {
    "duration": 11,
    "start_time": "2022-06-14T09:29:49.386Z"
   },
   {
    "duration": 456,
    "start_time": "2022-06-14T09:30:33.880Z"
   },
   {
    "duration": 12,
    "start_time": "2022-06-14T09:30:37.980Z"
   },
   {
    "duration": 6,
    "start_time": "2022-06-14T09:30:54.986Z"
   },
   {
    "duration": 6,
    "start_time": "2022-06-14T09:31:16.905Z"
   },
   {
    "duration": 169,
    "start_time": "2022-06-14T09:31:25.364Z"
   },
   {
    "duration": 9,
    "start_time": "2022-06-14T09:31:28.621Z"
   },
   {
    "duration": 8,
    "start_time": "2022-06-14T09:31:39.776Z"
   },
   {
    "duration": 11,
    "start_time": "2022-06-14T09:32:13.141Z"
   },
   {
    "duration": 25,
    "start_time": "2022-06-14T09:32:38.045Z"
   },
   {
    "duration": 24,
    "start_time": "2022-06-14T09:33:08.400Z"
   },
   {
    "duration": 26,
    "start_time": "2022-06-14T09:33:16.936Z"
   },
   {
    "duration": 14,
    "start_time": "2022-06-14T09:33:26.391Z"
   },
   {
    "duration": 6,
    "start_time": "2022-06-14T09:33:40.410Z"
   },
   {
    "duration": 16,
    "start_time": "2022-06-14T09:34:08.611Z"
   },
   {
    "duration": 25,
    "start_time": "2022-06-14T09:34:24.256Z"
   },
   {
    "duration": 23,
    "start_time": "2022-06-14T09:36:17.706Z"
   },
   {
    "duration": 459,
    "start_time": "2022-06-14T09:36:25.367Z"
   },
   {
    "duration": 229,
    "start_time": "2022-06-14T09:37:07.698Z"
   },
   {
    "duration": 3,
    "start_time": "2022-06-14T10:28:16.158Z"
   },
   {
    "duration": 200,
    "start_time": "2022-06-14T10:28:17.728Z"
   },
   {
    "duration": 16,
    "start_time": "2022-06-14T10:29:05.814Z"
   },
   {
    "duration": 24,
    "start_time": "2022-06-14T10:29:09.010Z"
   },
   {
    "duration": 20,
    "start_time": "2022-06-14T10:29:16.737Z"
   },
   {
    "duration": 21,
    "start_time": "2022-06-14T10:29:40.779Z"
   },
   {
    "duration": 18,
    "start_time": "2022-06-14T10:29:57.139Z"
   },
   {
    "duration": 3,
    "start_time": "2022-06-14T10:30:11.173Z"
   },
   {
    "duration": 581,
    "start_time": "2022-06-14T10:30:14.543Z"
   },
   {
    "duration": 585,
    "start_time": "2022-06-14T10:32:15.143Z"
   },
   {
    "duration": 38,
    "start_time": "2022-06-14T10:34:14.329Z"
   },
   {
    "duration": 444,
    "start_time": "2022-06-14T10:34:26.909Z"
   },
   {
    "duration": 475,
    "start_time": "2022-06-14T10:34:36.159Z"
   },
   {
    "duration": 10,
    "start_time": "2022-06-14T10:35:56.724Z"
   },
   {
    "duration": 3,
    "start_time": "2022-06-14T10:36:56.734Z"
   },
   {
    "duration": 228,
    "start_time": "2022-06-14T10:37:03.199Z"
   },
   {
    "duration": 1042,
    "start_time": "2022-06-14T10:37:15.731Z"
   },
   {
    "duration": 429,
    "start_time": "2022-06-14T10:37:16.775Z"
   },
   {
    "duration": 29,
    "start_time": "2022-06-14T10:37:17.206Z"
   },
   {
    "duration": 152,
    "start_time": "2022-06-14T10:37:17.237Z"
   },
   {
    "duration": 462,
    "start_time": "2022-06-14T10:37:17.391Z"
   },
   {
    "duration": 238,
    "start_time": "2022-06-14T10:37:18.386Z"
   },
   {
    "duration": 236,
    "start_time": "2022-06-14T10:37:22.392Z"
   },
   {
    "duration": 93,
    "start_time": "2022-06-14T10:37:22.631Z"
   },
   {
    "duration": 148,
    "start_time": "2022-06-14T10:37:22.727Z"
   },
   {
    "duration": 3,
    "start_time": "2022-06-14T10:37:22.877Z"
   },
   {
    "duration": 645,
    "start_time": "2022-06-14T10:37:22.882Z"
   },
   {
    "duration": 284,
    "start_time": "2022-06-14T10:37:23.528Z"
   },
   {
    "duration": 1134,
    "start_time": "2022-06-14T10:38:00.994Z"
   },
   {
    "duration": 437,
    "start_time": "2022-06-14T10:38:02.130Z"
   },
   {
    "duration": 27,
    "start_time": "2022-06-14T10:38:02.569Z"
   },
   {
    "duration": 218,
    "start_time": "2022-06-14T10:38:02.599Z"
   },
   {
    "duration": 478,
    "start_time": "2022-06-14T10:38:02.824Z"
   },
   {
    "duration": 255,
    "start_time": "2022-06-14T10:38:03.304Z"
   },
   {
    "duration": 269,
    "start_time": "2022-06-14T10:38:03.561Z"
   },
   {
    "duration": 93,
    "start_time": "2022-06-14T10:38:03.834Z"
   },
   {
    "duration": 47,
    "start_time": "2022-06-14T10:38:04.022Z"
   },
   {
    "duration": 3,
    "start_time": "2022-06-14T10:38:04.072Z"
   },
   {
    "duration": 648,
    "start_time": "2022-06-14T10:38:04.077Z"
   },
   {
    "duration": 288,
    "start_time": "2022-06-14T10:38:04.727Z"
   },
   {
    "duration": 9,
    "start_time": "2022-06-14T10:39:24.304Z"
   },
   {
    "duration": 4,
    "start_time": "2022-06-14T10:39:51.464Z"
   },
   {
    "duration": 8,
    "start_time": "2022-06-14T10:40:27.263Z"
   },
   {
    "duration": 8,
    "start_time": "2022-06-14T10:40:42.244Z"
   },
   {
    "duration": 229,
    "start_time": "2022-06-14T10:40:46.694Z"
   },
   {
    "duration": 6,
    "start_time": "2022-06-14T10:41:31.944Z"
   },
   {
    "duration": 194,
    "start_time": "2022-06-14T10:42:12.845Z"
   },
   {
    "duration": 3,
    "start_time": "2022-06-14T10:43:19.250Z"
   },
   {
    "duration": 211,
    "start_time": "2022-06-14T10:43:21.519Z"
   },
   {
    "duration": 5,
    "start_time": "2022-06-14T10:43:58.300Z"
   },
   {
    "duration": 585,
    "start_time": "2022-06-14T10:44:01.240Z"
   },
   {
    "duration": 5,
    "start_time": "2022-06-14T10:44:05.362Z"
   },
   {
    "duration": 210,
    "start_time": "2022-06-14T10:44:07.214Z"
   },
   {
    "duration": 6,
    "start_time": "2022-06-14T10:44:10.289Z"
   },
   {
    "duration": 151,
    "start_time": "2022-06-14T10:44:34.974Z"
   },
   {
    "duration": 5,
    "start_time": "2022-06-14T10:44:37.214Z"
   },
   {
    "duration": 193,
    "start_time": "2022-06-14T10:45:07.039Z"
   },
   {
    "duration": 5,
    "start_time": "2022-06-14T10:45:10.050Z"
   },
   {
    "duration": 10,
    "start_time": "2022-06-14T10:45:36.044Z"
   },
   {
    "duration": 9,
    "start_time": "2022-06-14T10:45:53.200Z"
   },
   {
    "duration": 5,
    "start_time": "2022-06-14T10:46:24.314Z"
   },
   {
    "duration": 6,
    "start_time": "2022-06-14T10:46:45.184Z"
   },
   {
    "duration": 6,
    "start_time": "2022-06-14T10:46:56.304Z"
   },
   {
    "duration": 4,
    "start_time": "2022-06-14T10:47:04.235Z"
   },
   {
    "duration": 5,
    "start_time": "2022-06-14T10:47:09.789Z"
   },
   {
    "duration": 10,
    "start_time": "2022-06-14T10:47:23.329Z"
   },
   {
    "duration": 7,
    "start_time": "2022-06-14T10:47:59.460Z"
   },
   {
    "duration": 6,
    "start_time": "2022-06-14T10:48:16.070Z"
   },
   {
    "duration": 6,
    "start_time": "2022-06-14T10:48:24.935Z"
   },
   {
    "duration": 3,
    "start_time": "2022-06-14T10:51:34.149Z"
   },
   {
    "duration": 135,
    "start_time": "2022-06-14T10:51:37.094Z"
   },
   {
    "duration": 4,
    "start_time": "2022-06-14T10:51:50.393Z"
   },
   {
    "duration": 231,
    "start_time": "2022-06-14T10:51:56.294Z"
   },
   {
    "duration": 488,
    "start_time": "2022-06-14T10:52:01.449Z"
   },
   {
    "duration": 6,
    "start_time": "2022-06-14T10:52:35.284Z"
   },
   {
    "duration": 6,
    "start_time": "2022-06-14T10:52:50.040Z"
   },
   {
    "duration": 10,
    "start_time": "2022-06-14T10:53:09.680Z"
   },
   {
    "duration": 8,
    "start_time": "2022-06-14T10:53:26.164Z"
   },
   {
    "duration": 10,
    "start_time": "2022-06-14T10:53:39.904Z"
   },
   {
    "duration": 170,
    "start_time": "2022-06-14T10:54:15.754Z"
   },
   {
    "duration": 9,
    "start_time": "2022-06-14T10:54:18.834Z"
   },
   {
    "duration": 215,
    "start_time": "2022-06-14T10:54:45.309Z"
   },
   {
    "duration": 10,
    "start_time": "2022-06-14T10:54:52.404Z"
   },
   {
    "duration": 9,
    "start_time": "2022-06-14T10:55:00.386Z"
   },
   {
    "duration": 6,
    "start_time": "2022-06-14T10:55:11.195Z"
   },
   {
    "duration": 6,
    "start_time": "2022-06-14T10:55:31.604Z"
   },
   {
    "duration": 8,
    "start_time": "2022-06-14T10:56:08.454Z"
   },
   {
    "duration": 6,
    "start_time": "2022-06-14T10:56:41.670Z"
   },
   {
    "duration": 18,
    "start_time": "2022-06-14T10:57:06.529Z"
   },
   {
    "duration": 21,
    "start_time": "2022-06-14T10:57:25.239Z"
   },
   {
    "duration": 18,
    "start_time": "2022-06-14T10:57:30.184Z"
   },
   {
    "duration": 11,
    "start_time": "2022-06-14T10:57:39.859Z"
   },
   {
    "duration": 8,
    "start_time": "2022-06-14T10:57:58.575Z"
   },
   {
    "duration": 3,
    "start_time": "2022-06-14T10:58:42.244Z"
   },
   {
    "duration": 175,
    "start_time": "2022-06-14T10:58:48.350Z"
   },
   {
    "duration": 17,
    "start_time": "2022-06-14T10:58:58.410Z"
   },
   {
    "duration": 551,
    "start_time": "2022-06-14T10:59:17.279Z"
   },
   {
    "duration": 9,
    "start_time": "2022-06-14T11:00:28.035Z"
   },
   {
    "duration": 8,
    "start_time": "2022-06-14T11:00:43.734Z"
   },
   {
    "duration": 4,
    "start_time": "2022-06-14T11:01:58.400Z"
   },
   {
    "duration": 639,
    "start_time": "2022-06-14T11:02:00.800Z"
   },
   {
    "duration": 4,
    "start_time": "2022-06-14T11:07:04.400Z"
   },
   {
    "duration": 546,
    "start_time": "2022-06-14T11:07:05.780Z"
   },
   {
    "duration": 109,
    "start_time": "2022-06-14T11:07:10.539Z"
   },
   {
    "duration": 14,
    "start_time": "2022-06-14T11:07:23.229Z"
   },
   {
    "duration": 7,
    "start_time": "2022-06-14T11:07:30.838Z"
   },
   {
    "duration": 7,
    "start_time": "2022-06-14T11:07:53.314Z"
   },
   {
    "duration": 6,
    "start_time": "2022-06-14T11:08:05.165Z"
   },
   {
    "duration": 7,
    "start_time": "2022-06-14T11:08:10.044Z"
   },
   {
    "duration": 18,
    "start_time": "2022-06-14T11:08:31.143Z"
   },
   {
    "duration": 14,
    "start_time": "2022-06-14T11:08:40.450Z"
   },
   {
    "duration": 4,
    "start_time": "2022-06-14T11:08:49.751Z"
   },
   {
    "duration": 470,
    "start_time": "2022-06-14T11:08:51.275Z"
   },
   {
    "duration": 4897,
    "start_time": "2022-06-14T11:08:59.006Z"
   },
   {
    "duration": 10,
    "start_time": "2022-06-14T11:09:13.916Z"
   },
   {
    "duration": 4305,
    "start_time": "2022-06-14T11:41:15.413Z"
   },
   {
    "duration": 13,
    "start_time": "2022-06-14T11:41:24.042Z"
   },
   {
    "duration": 82,
    "start_time": "2022-06-14T11:41:32.618Z"
   },
   {
    "duration": 4,
    "start_time": "2022-06-14T11:41:44.013Z"
   },
   {
    "duration": 69,
    "start_time": "2022-06-14T11:41:50.336Z"
   },
   {
    "duration": 4,
    "start_time": "2022-06-14T12:28:38.891Z"
   },
   {
    "duration": 533,
    "start_time": "2022-06-14T12:28:40.196Z"
   },
   {
    "duration": 4172,
    "start_time": "2022-06-14T12:28:49.268Z"
   },
   {
    "duration": 21,
    "start_time": "2022-06-14T12:28:57.421Z"
   },
   {
    "duration": 77,
    "start_time": "2022-06-14T12:29:01.732Z"
   },
   {
    "duration": 24,
    "start_time": "2022-06-14T13:18:37.516Z"
   },
   {
    "duration": 16,
    "start_time": "2022-06-14T13:19:11.471Z"
   },
   {
    "duration": 19,
    "start_time": "2022-06-14T13:19:48.339Z"
   },
   {
    "duration": 91,
    "start_time": "2022-06-14T13:19:55.321Z"
   },
   {
    "duration": 1107,
    "start_time": "2022-06-14T13:20:23.156Z"
   },
   {
    "duration": 436,
    "start_time": "2022-06-14T13:20:24.266Z"
   },
   {
    "duration": 40,
    "start_time": "2022-06-14T13:20:24.704Z"
   },
   {
    "duration": 208,
    "start_time": "2022-06-14T13:20:24.754Z"
   },
   {
    "duration": 466,
    "start_time": "2022-06-14T13:20:24.964Z"
   },
   {
    "duration": 248,
    "start_time": "2022-06-14T13:20:25.433Z"
   },
   {
    "duration": 66,
    "start_time": "2022-06-14T13:20:25.683Z"
   },
   {
    "duration": 513,
    "start_time": "2022-06-14T13:20:25.830Z"
   },
   {
    "duration": 3,
    "start_time": "2022-06-14T13:20:26.345Z"
   },
   {
    "duration": 97,
    "start_time": "2022-06-14T13:20:26.351Z"
   },
   {
    "duration": 4,
    "start_time": "2022-06-14T13:20:26.450Z"
   },
   {
    "duration": 579,
    "start_time": "2022-06-14T13:20:26.456Z"
   },
   {
    "duration": 4145,
    "start_time": "2022-06-14T13:20:27.037Z"
   },
   {
    "duration": 93,
    "start_time": "2022-06-14T13:20:31.184Z"
   },
   {
    "duration": 22,
    "start_time": "2022-06-14T13:20:31.279Z"
   },
   {
    "duration": 46,
    "start_time": "2022-06-14T13:22:39.092Z"
   },
   {
    "duration": 77,
    "start_time": "2022-06-14T13:22:58.382Z"
   },
   {
    "duration": 66,
    "start_time": "2022-06-14T13:23:29.518Z"
   },
   {
    "duration": 45,
    "start_time": "2022-06-14T13:23:44.217Z"
   },
   {
    "duration": 47,
    "start_time": "2022-06-14T13:23:51.647Z"
   },
   {
    "duration": 231,
    "start_time": "2022-06-14T13:26:13.511Z"
   },
   {
    "duration": 6,
    "start_time": "2022-06-14T13:26:18.172Z"
   },
   {
    "duration": 7,
    "start_time": "2022-06-14T13:26:23.982Z"
   },
   {
    "duration": 280,
    "start_time": "2022-06-14T13:30:44.603Z"
   },
   {
    "duration": 38,
    "start_time": "2022-06-14T13:31:12.954Z"
   },
   {
    "duration": 21,
    "start_time": "2022-06-14T13:31:23.908Z"
   },
   {
    "duration": 0,
    "start_time": "2022-06-14T13:33:50.980Z"
   },
   {
    "duration": 0,
    "start_time": "2022-06-14T13:33:50.983Z"
   },
   {
    "duration": 748,
    "start_time": "2022-06-14T13:33:57.138Z"
   },
   {
    "duration": 6885,
    "start_time": "2022-06-14T13:37:36.340Z"
   },
   {
    "duration": 7037,
    "start_time": "2022-06-14T13:37:59.920Z"
   },
   {
    "duration": 3,
    "start_time": "2022-06-14T13:39:06.161Z"
   },
   {
    "duration": 462,
    "start_time": "2022-06-14T13:39:15.710Z"
   },
   {
    "duration": 48,
    "start_time": "2022-06-14T13:39:21.380Z"
   },
   {
    "duration": 1175,
    "start_time": "2022-06-14T13:39:25.755Z"
   },
   {
    "duration": 471,
    "start_time": "2022-06-14T13:39:34.219Z"
   },
   {
    "duration": 473,
    "start_time": "2022-06-14T13:39:39.070Z"
   },
   {
    "duration": 7145,
    "start_time": "2022-06-14T13:39:41.440Z"
   },
   {
    "duration": 1158,
    "start_time": "2022-06-15T18:32:57.740Z"
   },
   {
    "duration": 827,
    "start_time": "2022-06-15T18:34:18.579Z"
   },
   {
    "duration": 101,
    "start_time": "2022-06-15T18:34:23.800Z"
   },
   {
    "duration": 453,
    "start_time": "2022-06-15T18:34:40.000Z"
   },
   {
    "duration": 6590,
    "start_time": "2022-06-15T18:34:45.086Z"
   },
   {
    "duration": 1171,
    "start_time": "2022-06-15T18:36:25.712Z"
   },
   {
    "duration": 451,
    "start_time": "2022-06-15T18:36:26.886Z"
   },
   {
    "duration": 21,
    "start_time": "2022-06-15T18:36:27.339Z"
   },
   {
    "duration": 155,
    "start_time": "2022-06-15T18:36:28.327Z"
   },
   {
    "duration": 475,
    "start_time": "2022-06-15T18:36:28.484Z"
   },
   {
    "duration": 254,
    "start_time": "2022-06-15T18:36:28.961Z"
   },
   {
    "duration": 310,
    "start_time": "2022-06-15T18:36:29.217Z"
   },
   {
    "duration": 4,
    "start_time": "2022-06-15T18:36:31.398Z"
   },
   {
    "duration": 67,
    "start_time": "2022-06-15T18:36:31.404Z"
   },
   {
    "duration": 4,
    "start_time": "2022-06-15T18:36:31.473Z"
   },
   {
    "duration": 615,
    "start_time": "2022-06-15T18:36:31.512Z"
   },
   {
    "duration": 4477,
    "start_time": "2022-06-15T18:36:32.129Z"
   },
   {
    "duration": 483,
    "start_time": "2022-06-15T18:36:36.608Z"
   },
   {
    "duration": 33,
    "start_time": "2022-06-15T18:36:37.093Z"
   },
   {
    "duration": 245,
    "start_time": "2022-06-15T18:44:54.627Z"
   },
   {
    "duration": 300,
    "start_time": "2022-06-15T18:44:58.738Z"
   },
   {
    "duration": 77,
    "start_time": "2022-06-15T18:48:59.018Z"
   },
   {
    "duration": 529,
    "start_time": "2022-06-15T19:04:59.989Z"
   },
   {
    "duration": 375,
    "start_time": "2022-06-15T19:05:13.870Z"
   },
   {
    "duration": 120,
    "start_time": "2022-06-15T19:05:52.464Z"
   },
   {
    "duration": 3,
    "start_time": "2022-06-15T19:06:10.604Z"
   },
   {
    "duration": 374,
    "start_time": "2022-06-15T19:06:14.769Z"
   },
   {
    "duration": 347,
    "start_time": "2022-06-15T19:06:27.215Z"
   },
   {
    "duration": 499,
    "start_time": "2022-06-15T19:06:48.215Z"
   },
   {
    "duration": 389,
    "start_time": "2022-06-15T19:06:56.275Z"
   },
   {
    "duration": 26,
    "start_time": "2022-06-15T19:08:40.915Z"
   },
   {
    "duration": 201,
    "start_time": "2022-06-15T19:10:11.200Z"
   },
   {
    "duration": 170,
    "start_time": "2022-06-15T19:10:20.816Z"
   },
   {
    "duration": 427,
    "start_time": "2022-06-15T19:10:31.859Z"
   },
   {
    "duration": 405,
    "start_time": "2022-06-15T19:10:41.981Z"
   },
   {
    "duration": 14,
    "start_time": "2022-06-15T19:13:57.647Z"
   },
   {
    "duration": 21,
    "start_time": "2022-06-15T19:14:11.496Z"
   },
   {
    "duration": 47,
    "start_time": "2022-06-15T19:17:59.177Z"
   },
   {
    "duration": 23,
    "start_time": "2022-06-15T19:18:48.696Z"
   },
   {
    "duration": 23,
    "start_time": "2022-06-15T19:19:05.636Z"
   },
   {
    "duration": 17,
    "start_time": "2022-06-15T19:19:18.026Z"
   },
   {
    "duration": 21,
    "start_time": "2022-06-15T19:19:43.901Z"
   },
   {
    "duration": 490,
    "start_time": "2022-06-15T19:19:52.537Z"
   },
   {
    "duration": 322,
    "start_time": "2022-06-15T19:20:10.691Z"
   },
   {
    "duration": 350,
    "start_time": "2022-06-15T19:20:21.121Z"
   },
   {
    "duration": 427,
    "start_time": "2022-06-15T19:21:04.991Z"
   },
   {
    "duration": 446,
    "start_time": "2022-06-15T19:21:15.396Z"
   },
   {
    "duration": 449,
    "start_time": "2022-06-15T19:21:21.206Z"
   },
   {
    "duration": 490,
    "start_time": "2022-06-15T19:21:31.003Z"
   },
   {
    "duration": 469,
    "start_time": "2022-06-15T19:22:05.796Z"
   },
   {
    "duration": 275,
    "start_time": "2022-06-15T19:22:12.686Z"
   },
   {
    "duration": 271,
    "start_time": "2022-06-15T19:22:17.336Z"
   },
   {
    "duration": 483,
    "start_time": "2022-06-15T19:22:31.216Z"
   },
   {
    "duration": 477,
    "start_time": "2022-06-15T19:22:43.861Z"
   },
   {
    "duration": 274,
    "start_time": "2022-06-15T19:22:48.641Z"
   },
   {
    "duration": 390,
    "start_time": "2022-06-15T19:22:57.366Z"
   },
   {
    "duration": 656,
    "start_time": "2022-06-15T19:23:18.781Z"
   },
   {
    "duration": 618,
    "start_time": "2022-06-15T19:23:28.571Z"
   },
   {
    "duration": 437,
    "start_time": "2022-06-15T19:23:31.071Z"
   },
   {
    "duration": 429,
    "start_time": "2022-06-15T19:23:42.445Z"
   },
   {
    "duration": 423,
    "start_time": "2022-06-15T19:23:47.632Z"
   },
   {
    "duration": 440,
    "start_time": "2022-06-15T19:24:00.941Z"
   },
   {
    "duration": 460,
    "start_time": "2022-06-15T19:24:22.551Z"
   },
   {
    "duration": 425,
    "start_time": "2022-06-15T19:24:27.481Z"
   },
   {
    "duration": 692,
    "start_time": "2022-06-15T19:24:33.756Z"
   },
   {
    "duration": 460,
    "start_time": "2022-06-15T19:24:43.036Z"
   },
   {
    "duration": 412,
    "start_time": "2022-06-15T19:25:10.646Z"
   },
   {
    "duration": 19,
    "start_time": "2022-06-15T19:25:22.952Z"
   },
   {
    "duration": 14,
    "start_time": "2022-06-15T19:25:32.301Z"
   },
   {
    "duration": 463,
    "start_time": "2022-06-15T19:25:39.605Z"
   },
   {
    "duration": 12,
    "start_time": "2022-06-15T19:25:57.917Z"
   },
   {
    "duration": 454,
    "start_time": "2022-06-15T19:26:03.886Z"
   },
   {
    "duration": 408,
    "start_time": "2022-06-15T19:27:43.683Z"
   },
   {
    "duration": 409,
    "start_time": "2022-06-15T19:28:17.971Z"
   },
   {
    "duration": 20,
    "start_time": "2022-06-15T19:28:57.157Z"
   },
   {
    "duration": 23,
    "start_time": "2022-06-15T19:29:24.812Z"
   },
   {
    "duration": 26,
    "start_time": "2022-06-15T19:29:32.547Z"
   },
   {
    "duration": 20,
    "start_time": "2022-06-15T19:30:27.865Z"
   },
   {
    "duration": 19,
    "start_time": "2022-06-15T19:30:59.022Z"
   },
   {
    "duration": 27,
    "start_time": "2022-06-15T19:31:40.206Z"
   },
   {
    "duration": 42,
    "start_time": "2022-06-16T05:15:05.476Z"
   },
   {
    "duration": 1368,
    "start_time": "2022-06-16T05:15:11.957Z"
   },
   {
    "duration": 1608,
    "start_time": "2022-06-16T05:15:15.441Z"
   },
   {
    "duration": 64,
    "start_time": "2022-06-16T05:15:25.985Z"
   },
   {
    "duration": 340,
    "start_time": "2022-06-16T05:15:34.215Z"
   },
   {
    "duration": 219,
    "start_time": "2022-06-16T05:15:40.012Z"
   },
   {
    "duration": 421,
    "start_time": "2022-06-16T05:15:44.807Z"
   },
   {
    "duration": 9,
    "start_time": "2022-06-16T05:15:52.289Z"
   },
   {
    "duration": 3,
    "start_time": "2022-06-16T05:15:54.753Z"
   },
   {
    "duration": 69,
    "start_time": "2022-06-16T05:15:56.905Z"
   },
   {
    "duration": 3,
    "start_time": "2022-06-16T05:16:01.421Z"
   },
   {
    "duration": 568,
    "start_time": "2022-06-16T05:16:05.965Z"
   },
   {
    "duration": 3542,
    "start_time": "2022-06-16T05:16:20.048Z"
   },
   {
    "duration": 14,
    "start_time": "2022-06-16T05:16:30.279Z"
   },
   {
    "duration": 22,
    "start_time": "2022-06-16T05:18:08.300Z"
   },
   {
    "duration": 17,
    "start_time": "2022-06-16T05:19:05.173Z"
   },
   {
    "duration": 66,
    "start_time": "2022-06-16T05:29:22.924Z"
   },
   {
    "duration": 34,
    "start_time": "2022-06-16T05:29:58.005Z"
   },
   {
    "duration": 61,
    "start_time": "2022-06-16T05:30:12.446Z"
   },
   {
    "duration": 17,
    "start_time": "2022-06-16T05:34:49.046Z"
   },
   {
    "duration": 429,
    "start_time": "2022-06-16T05:57:05.502Z"
   },
   {
    "duration": 175,
    "start_time": "2022-06-16T05:58:10.453Z"
   },
   {
    "duration": 211,
    "start_time": "2022-06-16T05:58:57.516Z"
   },
   {
    "duration": 107,
    "start_time": "2022-06-16T05:59:04.737Z"
   },
   {
    "duration": 66,
    "start_time": "2022-06-16T06:00:37.967Z"
   },
   {
    "duration": 553,
    "start_time": "2022-06-16T06:03:17.482Z"
   },
   {
    "duration": 447,
    "start_time": "2022-06-16T06:03:24.281Z"
   },
   {
    "duration": 460,
    "start_time": "2022-06-16T06:03:52.368Z"
   },
   {
    "duration": 905,
    "start_time": "2022-06-16T06:04:18.523Z"
   },
   {
    "duration": 749,
    "start_time": "2022-06-16T06:05:00.578Z"
   },
   {
    "duration": 215,
    "start_time": "2022-06-16T06:06:35.012Z"
   },
   {
    "duration": 38,
    "start_time": "2022-06-16T06:07:25.772Z"
   },
   {
    "duration": 31,
    "start_time": "2022-06-16T06:07:28.416Z"
   },
   {
    "duration": 133,
    "start_time": "2022-06-16T06:07:32.902Z"
   },
   {
    "duration": 488,
    "start_time": "2022-06-16T06:08:03.242Z"
   },
   {
    "duration": 610,
    "start_time": "2022-06-16T06:08:14.418Z"
   },
   {
    "duration": 491,
    "start_time": "2022-06-16T06:08:53.442Z"
   },
   {
    "duration": 379,
    "start_time": "2022-06-16T06:09:09.862Z"
   },
   {
    "duration": 3,
    "start_time": "2022-06-16T06:13:08.812Z"
   },
   {
    "duration": 522,
    "start_time": "2022-06-16T06:13:34.511Z"
   },
   {
    "duration": 3,
    "start_time": "2022-06-16T06:13:59.106Z"
   },
   {
    "duration": 1485,
    "start_time": "2022-06-16T06:16:43.257Z"
   },
   {
    "duration": 3,
    "start_time": "2022-06-16T06:17:13.532Z"
   },
   {
    "duration": 56,
    "start_time": "2022-06-16T06:27:22.971Z"
   },
   {
    "duration": 102,
    "start_time": "2022-06-16T06:28:25.032Z"
   },
   {
    "duration": 79,
    "start_time": "2022-06-16T06:28:45.647Z"
   },
   {
    "duration": 88,
    "start_time": "2022-06-16T06:29:07.442Z"
   },
   {
    "duration": 101,
    "start_time": "2022-06-16T06:29:15.426Z"
   },
   {
    "duration": 64,
    "start_time": "2022-06-16T06:31:34.562Z"
   },
   {
    "duration": 1241,
    "start_time": "2022-06-16T06:47:15.689Z"
   },
   {
    "duration": 346,
    "start_time": "2022-06-16T06:47:16.931Z"
   },
   {
    "duration": 17,
    "start_time": "2022-06-16T06:47:17.278Z"
   },
   {
    "duration": 140,
    "start_time": "2022-06-16T06:47:17.297Z"
   },
   {
    "duration": 366,
    "start_time": "2022-06-16T06:47:17.439Z"
   },
   {
    "duration": 213,
    "start_time": "2022-06-16T06:47:17.807Z"
   },
   {
    "duration": 205,
    "start_time": "2022-06-16T06:47:18.024Z"
   },
   {
    "duration": 600,
    "start_time": "2022-06-16T06:47:18.231Z"
   },
   {
    "duration": 3,
    "start_time": "2022-06-16T06:47:18.832Z"
   },
   {
    "duration": 152,
    "start_time": "2022-06-16T06:47:18.926Z"
   },
   {
    "duration": 3,
    "start_time": "2022-06-16T06:47:19.080Z"
   },
   {
    "duration": 548,
    "start_time": "2022-06-16T06:47:19.084Z"
   },
   {
    "duration": 3724,
    "start_time": "2022-06-16T06:47:19.633Z"
   },
   {
    "duration": 374,
    "start_time": "2022-06-16T06:47:23.359Z"
   },
   {
    "duration": 362,
    "start_time": "2022-06-16T06:47:23.735Z"
   },
   {
    "duration": 130,
    "start_time": "2022-06-16T06:47:24.099Z"
   },
   {
    "duration": 47,
    "start_time": "2022-06-16T23:30:50.866Z"
   },
   {
    "duration": 2440,
    "start_time": "2022-06-16T23:30:58.406Z"
   },
   {
    "duration": 500,
    "start_time": "2022-06-16T23:31:00.848Z"
   },
   {
    "duration": 19,
    "start_time": "2022-06-16T23:31:01.350Z"
   },
   {
    "duration": 182,
    "start_time": "2022-06-16T23:31:01.371Z"
   },
   {
    "duration": 502,
    "start_time": "2022-06-16T23:31:01.555Z"
   },
   {
    "duration": 274,
    "start_time": "2022-06-16T23:31:02.058Z"
   },
   {
    "duration": 364,
    "start_time": "2022-06-16T23:31:02.334Z"
   },
   {
    "duration": 509,
    "start_time": "2022-06-16T23:31:02.701Z"
   },
   {
    "duration": 4,
    "start_time": "2022-06-16T23:31:03.295Z"
   },
   {
    "duration": 173,
    "start_time": "2022-06-16T23:31:03.303Z"
   },
   {
    "duration": 4,
    "start_time": "2022-06-16T23:31:03.478Z"
   },
   {
    "duration": 515,
    "start_time": "2022-06-16T23:31:03.493Z"
   },
   {
    "duration": 4146,
    "start_time": "2022-06-16T23:31:04.010Z"
   },
   {
    "duration": 467,
    "start_time": "2022-06-16T23:31:08.158Z"
   },
   {
    "duration": 554,
    "start_time": "2022-06-16T23:31:08.627Z"
   },
   {
    "duration": 115,
    "start_time": "2022-06-16T23:31:09.183Z"
   },
   {
    "duration": 113,
    "start_time": "2022-06-16T23:31:09.300Z"
   },
   {
    "duration": 1266,
    "start_time": "2022-06-17T05:55:16.705Z"
   },
   {
    "duration": 410,
    "start_time": "2022-06-17T05:55:19.676Z"
   },
   {
    "duration": 19,
    "start_time": "2022-06-17T05:55:20.087Z"
   },
   {
    "duration": 159,
    "start_time": "2022-06-17T05:55:20.108Z"
   },
   {
    "duration": 408,
    "start_time": "2022-06-17T05:55:20.269Z"
   },
   {
    "duration": 250,
    "start_time": "2022-06-17T05:55:25.285Z"
   },
   {
    "duration": 327,
    "start_time": "2022-06-17T05:55:25.538Z"
   },
   {
    "duration": 95,
    "start_time": "2022-06-17T05:55:25.868Z"
   },
   {
    "duration": 9,
    "start_time": "2022-06-17T05:55:25.970Z"
   },
   {
    "duration": 4,
    "start_time": "2022-06-17T05:55:28.005Z"
   },
   {
    "duration": 22,
    "start_time": "2022-06-17T05:55:28.011Z"
   },
   {
    "duration": 3768,
    "start_time": "2022-06-17T05:55:29.125Z"
   },
   {
    "duration": 468,
    "start_time": "2022-06-17T05:55:32.895Z"
   },
   {
    "duration": 414,
    "start_time": "2022-06-17T05:55:33.373Z"
   },
   {
    "duration": 9,
    "start_time": "2022-06-17T05:55:33.789Z"
   },
   {
    "duration": 14,
    "start_time": "2022-06-17T05:55:33.799Z"
   }
  ],
  "kernelspec": {
   "display_name": "Python 3 (ipykernel)",
   "language": "python",
   "name": "python3"
  },
  "language_info": {
   "codemirror_mode": {
    "name": "ipython",
    "version": 3
   },
   "file_extension": ".py",
   "mimetype": "text/x-python",
   "name": "python",
   "nbconvert_exporter": "python",
   "pygments_lexer": "ipython3",
   "version": "3.9.12"
  },
  "toc": {
   "base_numbering": 1,
   "nav_menu": {},
   "number_sections": true,
   "sideBar": true,
   "skip_h1_title": true,
   "title_cell": "Table of Contents",
   "title_sidebar": "Contents",
   "toc_cell": false,
   "toc_position": {},
   "toc_section_display": true,
   "toc_window_display": false
  }
 },
 "nbformat": 4,
 "nbformat_minor": 5
}
